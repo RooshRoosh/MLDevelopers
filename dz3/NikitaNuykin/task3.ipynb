{
 "cells": [
  {
   "cell_type": "code",
   "execution_count": 7,
   "metadata": {},
   "outputs": [],
   "source": [
    "import re\n",
    "import pymorphy2\n",
    "import numpy as np\n",
    "import matplotlib.pyplot as plt\n",
    "from sklearn.feature_extraction.text import CountVectorizer, TfidfVectorizer\n",
    "import pymystem3\n",
    "from sklearn.cross_validation import train_test_split\n",
    "from sklearn.metrics import classification_report, roc_auc_score\n",
    "from sklearn.naive_bayes import BernoulliNB, MultinomialNB\n",
    "from stop_words import get_stop_words\n",
    "from sklearn.feature_selection import SelectKBest, SelectPercentile, f_classif, chi2, SelectFromModel"
   ]
  },
  {
   "cell_type": "code",
   "execution_count": 8,
   "metadata": {},
   "outputs": [],
   "source": [
    "morph = pymorphy2.MorphAnalyzer()"
   ]
  },
  {
   "cell_type": "code",
   "execution_count": 94,
   "metadata": {},
   "outputs": [],
   "source": [
    "def string_to_trigramm(string):\n",
    "    for item in string.split():\n",
    "        for i in range(len(item)-3):\n",
    "            yield item[i:i+4]"
   ]
  },
  {
   "cell_type": "code",
   "execution_count": 149,
   "metadata": {},
   "outputs": [],
   "source": [
    "def get_data(file, answer=True):\n",
    "    X = []\n",
    "    Y = []\n",
    "    cache = {}\n",
    "    \n",
    "    pattern = re.compile('([^\\s\\w]|_)+')\n",
    "\n",
    "    with open(file) as f:\n",
    "        content = f.readlines()[1:]\n",
    "\n",
    "    for line in content:\n",
    "        line_data = line.split(',')\n",
    "        temp = line_data[1].lower()\n",
    "        temp1 = temp\n",
    "        \n",
    "        temp = re.sub(r'[^а-я ]+', '', temp)\n",
    "        temp = ' '.join([x for x in temp.split(' ')[1:-1] if len(x) > 2 and len(x) < 15])\n",
    "        temp = ' '.join([morph.parse(x)[0].normal_form for x in temp.split(' ') if x])\n",
    "        for x in get_stop_words('ru'):\n",
    "            temp = re.sub(r\"\\b%s\\b\" % x , '', temp)\n",
    "        temp += ' '.join([x for x in string_to_trigramm(temp)])\n",
    "\n",
    "        X.append(temp1 + temp)\n",
    "        if answer:\n",
    "            Y.append(int(line_data[2][:-1]))\n",
    "    return X, Y"
   ]
  },
  {
   "cell_type": "code",
   "execution_count": 150,
   "metadata": {},
   "outputs": [],
   "source": [
    "def write_data(f_name, result):\n",
    "    with open(f_name,'w') as file:\n",
    "        file.write('id,prob\\n')\n",
    "    id = 0\n",
    "\n",
    "    for i in range(len(result)):\n",
    "        line = '{0},{1}\\n'.format(id,result[i])\n",
    "        id+=1\n",
    "        file.write(line)"
   ]
  },
  {
   "cell_type": "code",
   "execution_count": 151,
   "metadata": {},
   "outputs": [],
   "source": [
    "X, Y = get_data('data3/train.csv')"
   ]
  },
  {
   "cell_type": "code",
   "execution_count": 207,
   "metadata": {},
   "outputs": [
    {
     "data": {
      "text/plain": [
       "'ся оправдать иру? или… позвонил ей на работу сказал поедет к нотариусу надо довнести картошку он почистил. ира повозмущалась потом сдалась. все равно тебя вылечу только и произнесла негромко. он повесил трубку быстро собрался. по дороге перебирая в кармане купюры вдруг вспомнил — их с пумкой фотографировал егор как раз весной в начале мая. было холодно. у него должны сохраниться фотографии он воправдать ир  позвонить работа  поехать нотариус  довнести картошка почистить ир повозмущаться  сдаться  равно  вылечить  произнести негромко повесить трубка быстро собраться дорога перебирать карман купюра  вспомнить пумка фотографировать егор   весной начало май  холодный  должный сохраниться фотографияопра прав равд авда вдат дать позв озво звон вони онит нить рабо абот бота поех оеха ехат хать нота отар тари ариу риус довн овне внес нест ести карт арто ртош тошк ошка почи очис чист исти стит тить пово овоз возм озму змущ муща ущат щать атьс ться сдат дать атьс ться равн авно выле ылеч лечи ечит чить прои роиз оизн изне знес нест ести негр егро гром ромк омко пове овес веси есит сить труб рубк убка быст ыстр стро собр обра брат рать атьс ться доро орог рога пере ереб реби ебир бира ират рать карм арма рман купю упюр пюра вспо спом помн омни мнит нить пумк умка фото отог тогр огра граф рафи афир фиро иров рова оват вать егор весн есно сной нача ачал чало холо олод лодн одны дный долж олжн лжны жный сохр охра хран рани анит нить итьс ться фото отог тогр огра граф рафи афия'"
      ]
     },
     "execution_count": 207,
     "metadata": {},
     "output_type": "execute_result"
    }
   ],
   "source": [
    "X[2]"
   ]
  },
  {
   "cell_type": "code",
   "execution_count": 199,
   "metadata": {},
   "outputs": [],
   "source": [
    "tfidf_vectorizer = TfidfVectorizer(min_df=3, max_df=0.7)\n",
    "X_tfidf = tfidf_vectorizer.fit_transform(X)"
   ]
  },
  {
   "cell_type": "code",
   "execution_count": 200,
   "metadata": {},
   "outputs": [
    {
     "data": {
      "text/plain": [
       "(9760, 64486)"
      ]
     },
     "execution_count": 200,
     "metadata": {},
     "output_type": "execute_result"
    }
   ],
   "source": [
    "X_train, X_test, Y_train, Y_test = train_test_split(X_tfidf, Y, train_size=0.7)\n",
    "X_train.shape"
   ]
  },
  {
   "cell_type": "code",
   "execution_count": 201,
   "metadata": {},
   "outputs": [
    {
     "data": {
      "text/plain": [
       "(9760, 5000)"
      ]
     },
     "execution_count": 201,
     "metadata": {},
     "output_type": "execute_result"
    }
   ],
   "source": [
    "sel = SelectKBest(chi2, k=5000)\n",
    "sel.fit(X_train, Y_train)\n",
    "X_train = sel.transform(X_train).toarray()\n",
    "X_test = sel.transform(X_test).toarray()\n",
    "X_train.shape"
   ]
  },
  {
   "cell_type": "code",
   "execution_count": 202,
   "metadata": {},
   "outputs": [],
   "source": [
    "len(sel.scores_)\n",
    "10scores = sel.scores_\n",
    "scores.sort()"
   ]
  },
  {
   "cell_type": "code",
   "execution_count": 203,
   "metadata": {},
   "outputs": [
    {
     "data": {
      "image/png": "[encoded data removed]",
      "text/plain": [
       "<matplotlib.figure.Figure at 0x7f013acb9048>"
      ]
     },
     "metadata": {},
     "output_type": "display_data"
    }
   ],
   "source": [
    "plt.figure(figsize=(15,5))\n",
    "plt.plot([x for x in range(len(sel.scores_))], sel.scores_, c='red')\n",
    "plt.show()"
   ]
  },
  {
   "cell_type": "code",
   "execution_count": 206,
   "metadata": {},
   "outputs": [
    {
     "name": "stdout",
     "output_type": "stream",
     "text": [
      "roc_auc 0.434420069475\n",
      "roc_auc 0.964928716167\n",
      "             precision    recall  f1-score   support\n",
      "\n",
      "          0       0.90      0.81      0.85      3794\n",
      "          1       0.06      0.12      0.08       390\n",
      "\n",
      "avg / total       0.82      0.74      0.78      4184\n",
      "\n"
     ]
    }
   ],
   "source": [
    "clf_bnb = BernoulliNB(alpha=0.0001)\n",
    "clf_bnb.fit(X_train, Y_train)\n",
    "Y_pred = clf_bnb.predict(X_test)\n",
    "Y_pred_proba = clf_bnb.predict_proba(X_test)\n",
    "Y_pred_prob = clf_bnb.predict_proba(X_train)\n",
    "print('roc_auc', roc_auc_score(y_true=Y_test, y_score=Y_pred_proba[:,1]))\n",
    "print('roc_auc', roc_auc_score(y_true=Y_train, y_score=Y_pred_prob[:,1]))\n",
    "print(classification_report(y_true=Y_test, y_pred=Y_pred))"
   ]
  },
  {
   "cell_type": "code",
   "execution_count": 193,
   "metadata": {},
   "outputs": [
    {
     "name": "stdout",
     "output_type": "stream",
     "text": [
      "roc_auc 0.475252471397\n",
      "roc_auc 0.958485046357\n",
      "             precision    recall  f1-score   support\n",
      "\n",
      "          0       0.90      1.00      0.95      3760\n",
      "          1       0.00      0.00      0.00       424\n",
      "\n",
      "avg / total       0.81      0.90      0.85      4184\n",
      "\n"
     ]
    },
    {
     "name": "stderr",
     "output_type": "stream",
     "text": [
      "/home/nikita/work/ml/py3/lib/python3.6/site-packages/sklearn/metrics/classification.py:1135: UndefinedMetricWarning: Precision and F-score are ill-defined and being set to 0.0 in labels with no predicted samples.\n",
      "  'precision', 'predicted', average, warn_for)\n"
     ]
    }
   ],
   "source": [
    "clf_mnb = MultinomialNB(alpha=1)\n",
    "clf_mnb.fit(X_train, Y_train)\n",
    "Y_pred = clf_mnb.predict(X_test)\n",
    "Y_pred_proba = clf_mnb.predict_proba(X_test)\n",
    "Y_pred_prob = clf_bnb.predict_proba(X_train)\n",
    "print('roc_auc', roc_auc_score(y_true=Y_test, y_score=Y_pred_proba[:,1]))\n",
    "print('roc_auc', roc_auc_score(y_true=Y_train, y_score=Y_pred_prob[:,1]))\n",
    "print(classification_report(y_true=Y_test, y_pred=Y_pred))"
   ]
  },
  {
   "cell_type": "code",
   "execution_count": 197,
   "metadata": {},
   "outputs": [
    {
     "name": "stdout",
     "output_type": "stream",
     "text": [
      "варианта -3.57277769662\n",
      "богиня -3.57277769662\n",
      "бумажка -3.57277769662\n",
      "бвор -3.57277769662\n",
      "адекватный -3.57277769662\n",
      "влия -3.57277769662\n",
      "бвен -3.57277769662\n",
      "база -3.57277769662\n",
      "абсурд -3.57277769662\n",
      "бухгалтерии -3.57277769662\n",
      "блестеть -3.57277769662\n",
      "азён -3.57277769662\n",
      "вожд -3.57277769662\n",
      "бинты -3.53503736864\n",
      "возьмет -3.53503736864\n",
      "вассал -3.53503736864\n",
      "бинн -3.53503736864\n",
      "вона -3.53503736864\n",
      "вернется -3.53503736864\n",
      "анив -3.53503736864\n",
      "апри -3.53503736864\n",
      "ачас -3.53503736864\n",
      "взяло -3.53503736864\n",
      "взрезать -3.53503736864\n",
      "абсу -3.53503736864\n",
      "браться -3.53503736864\n",
      "благополучно -3.53503736864\n",
      "вира -3.49866972447\n",
      "бродил -3.49866972447\n",
      "агия -3.49866972447\n",
      "варька -3.49866972447\n",
      "вздохи -3.49866972447\n",
      "взмыла -3.46357840466\n",
      "анальгин -3.46357840466\n",
      "бархатный -3.46357840466\n",
      "ажем -3.46357840466\n",
      "бумажные -3.46357840466\n",
      "вовка -3.46357840466\n",
      "влиятельный -3.46357840466\n",
      "60 -3.46357840466\n",
      "васька -3.46357840466\n",
      "бешеной -3.46357840466\n",
      "атра -3.46357840466\n",
      "бесполезный -3.46357840466\n",
      "банку -3.46357840466\n",
      "видное -3.46357840466\n",
      "больший -3.46357840466\n",
      "анит -3.46357840466\n",
      "академия -3.42967685298\n",
      "асно -3.42967685298\n",
      "барт -3.42967685298\n",
      "актр -3.42967685298\n",
      "водка -3.42967685298\n",
      "вешал -3.42967685298\n",
      "васс -3.42967685298\n",
      "алеж -3.42967685298\n",
      "алев -3.42967685298\n",
      "анис -3.42967685298\n",
      "буча -3.42967685298\n",
      "американский -3.39688703016\n",
      "бнит -3.39688703016\n",
      "text -3.39688703016\n",
      "августа -3.39688703016\n",
      "арск -3.39688703016\n",
      "битву -3.39688703016\n",
      "арищ -3.39688703016\n",
      "бритв -3.36513833185\n",
      "влияние -3.36513833185\n",
      "брезгливый -3.36513833185\n",
      "астм -3.36513833185\n",
      "безумец -3.36513833185\n",
      "анастасий -3.36513833185\n",
      "амоп -3.36513833185\n",
      "азик -3.36513833185\n",
      "вкусно -3.33436667318\n",
      "алевтина -3.33436667318\n",
      "волх -3.33436667318\n",
      "вечно -3.33436667318\n",
      "азал -3.33436667318\n",
      "айдж -3.33436667318\n",
      "взой -3.33436667318\n",
      "асад -3.30451371003\n",
      "весенний -3.30451371003\n",
      "батарею -3.30451371003\n",
      "беть -3.30451371003\n",
      "билось -3.30451371003\n",
      "алах -3.30451371003\n",
      "68 -3.30451371003\n",
      "вкусная -3.30451371003\n",
      "витр -3.30451371003\n",
      "агонии -3.27552617316\n",
      "васт -3.27552617316\n",
      "абго -3.27552617316\n",
      "видит -3.27552617316\n",
      "будут -3.24735529619\n",
      "были -3.24735529619\n",
      "бестолково -3.24735529619\n",
      "алез -3.24735529619\n",
      "абстрактный -3.24735529619\n",
      "вайн -3.219956322\n",
      "бьёт -3.219956322\n",
      "визн -3.19328807492\n",
      "анфи -3.19328807492\n",
      "азие -3.19328807492\n",
      "версию -3.16731258852\n",
      "бомб -3.16731258852\n",
      "бним -3.16731258852\n",
      "апуг -3.16731258852\n",
      "бронь -3.14199478053\n",
      "ачай -3.14199478053\n",
      "башмак -3.14199478053\n",
      "благородство -3.14199478053\n",
      "блег -3.14199478053\n",
      "ванны -3.14199478053\n",
      "ашмя -3.14199478053\n",
      "ахнуть -3.14199478053\n",
      "2007 -3.11730216794\n",
      "ауди -3.11730216794\n",
      "арих -3.11730216794\n",
      "90 -3.11730216794\n",
      "ванную -3.11730216794\n",
      "адне -3.11730216794\n",
      "амулет -3.11730216794\n",
      "большей -3.09320461636\n",
      "бритвенное -3.02421174488\n",
      "ачин -3.02421174488\n",
      "важная -2.98072663294\n",
      "атво -2.98072663294\n",
      "бледно -2.98072663294\n",
      "арый -2.95967322374\n",
      "бросил -2.95967322374\n",
      "борька -2.95967322374\n",
      "биографии -2.95967322374\n",
      "видения -2.89904860192\n",
      "верху -2.87963051606\n",
      "беспорядок -2.87963051606\n",
      "атну -2.87963051606\n",
      "анкр -2.86058232109\n",
      "анча -2.82354104941\n",
      "блестели -2.7704312241\n",
      "виска -2.7704312241\n",
      "анцу -2.67199115129\n",
      "анде -2.64121949262\n",
      "веде -2.5681943576\n",
      "вдохновение -2.20590142136\n",
      "бийц -2.16743514053\n",
      "афон -1.94052510642\n",
      "адме -1.89640030152\n",
      "веще -1.34193650849\n",
      "асот -0.776434888377\n"
     ]
    }
   ],
   "source": [
    "iverted_vocab = {_id:w for (w,_id) in tfidf_vectorizer.vocabulary_.items()}\n",
    "for _id in clf_bnb.coef_.argsort()[0][-150:]:\n",
    "    print(iverted_vocab[_id], clf_bnb.coef_[0][_id])"
   ]
  },
  {
   "cell_type": "code",
   "execution_count": 198,
   "metadata": {},
   "outputs": [
    {
     "name": "stdout",
     "output_type": "stream",
     "text": [
      "бедняжка -7.99514040352\n",
      "водка -7.99495245644\n",
      "абго -7.99402267007\n",
      "вовка -7.99109595401\n",
      "большой -7.99067482773\n",
      "васька -7.9887626459\n",
      "виновник -7.9883777705\n",
      "ас -7.98752006675\n",
      "беременности -7.98752006675\n",
      "ател -7.98691061432\n",
      "битву -7.98641209628\n",
      "вешал -7.98174593528\n",
      "великое -7.9798818648\n",
      "беременный -7.97453997456\n",
      "брот -7.9739442211\n",
      "анастасий -7.97312946655\n",
      "варька -7.97099704393\n",
      "анис -7.9651802522\n",
      "актр -7.96515242536\n",
      "text -7.95933271608\n",
      "волх -7.95539296972\n",
      "взой -7.95444032324\n",
      "бвен -7.95187632965\n",
      "астм -7.95002345557\n",
      "вассал -7.94776553345\n",
      "васс -7.94518297901\n",
      "амоп -7.93597259846\n",
      "вишн -7.93474847348\n",
      "вкусная -7.93388854655\n",
      "бдел -7.92938332542\n",
      "анфи -7.92882496973\n",
      "алев -7.92731097393\n",
      "вздр -7.92603727778\n",
      "веселиться -7.92038743085\n",
      "атуш -7.91630989866\n",
      "агонии -7.91240051128\n",
      "булыжник -7.91133289701\n",
      "вкусно -7.90588848578\n",
      "визн -7.90558765434\n",
      "алевтина -7.89884007968\n",
      "брезгливый -7.89266117703\n",
      "билось -7.88932348437\n",
      "вечно -7.88901355514\n",
      "алез -7.88682018991\n",
      "арич -7.88519141941\n",
      "ампула -7.88397355284\n",
      "90 -7.88236202844\n",
      "батарею -7.88099473669\n",
      "азие -7.87939551724\n",
      "атчи -7.87779606074\n",
      "асад -7.8751875004\n",
      "68 -7.86826305203\n",
      "алуб -7.86698253959\n",
      "арск -7.86688409958\n",
      "банда -7.86680055201\n",
      "вернулся -7.86155331678\n",
      "абсу -7.85685900128\n",
      "влиятельный -7.85614590255\n",
      "азал -7.8551375543\n",
      "браться -7.8487753315\n",
      "взмыла -7.84170530792\n",
      "беть -7.84116678864\n",
      "бизнес -7.83929313098\n",
      "балконе -7.8348980129\n",
      "алису -7.83433853983\n",
      "волне -7.83221226166\n",
      "асно -7.83168690786\n",
      "бритв -7.82764257657\n",
      "ашмя -7.82426601829\n",
      "арих -7.82325784387\n",
      "бешеной -7.82219548517\n",
      "ахнуть -7.81989300079\n",
      "безумец -7.8192673018\n",
      "африке -7.81720692268\n",
      "благородство -7.81667068401\n",
      "версию -7.81253810271\n",
      "башмак -7.80842568141\n",
      "атли -7.80712598324\n",
      "влияние -7.80551135895\n",
      "адал -7.8040461867\n",
      "абстрактный -7.80158406264\n",
      "апри -7.79640961952\n",
      "виде -7.79360589469\n",
      "2007 -7.79259492395\n",
      "акту -7.79013335213\n",
      "биографии -7.78423947134\n",
      "блег -7.78073666286\n",
      "апуг -7.78005852692\n",
      "айдж -7.77942024446\n",
      "будут -7.77885382785\n",
      "веревкой -7.77681033311\n",
      "алиб -7.76715446459\n",
      "ачай -7.76343314217\n",
      "ванны -7.76260203984\n",
      "бним -7.76006574756\n",
      "амулет -7.74446081852\n",
      "адне -7.74446081852\n",
      "ванную -7.74160576753\n",
      "бронь -7.73389718971\n",
      "бьёт -7.72013997552\n",
      "витр -7.71441976906\n",
      "атет -7.70555326833\n",
      "ачин -7.70344173359\n",
      "алиф -7.69977260777\n",
      "важная -7.69621007901\n",
      "атем -7.69571467882\n",
      "алах -7.68346407125\n",
      "бледно -7.6687176387\n",
      "быти -7.65758516137\n",
      "борька -7.65301092741\n",
      "варианта -7.64663831778\n",
      "арый -7.64404717304\n",
      "большей -7.6322075262\n",
      "воздушный -7.62749946518\n",
      "беспорядок -7.62716740314\n",
      "весенний -7.62352298951\n",
      "взрезать -7.61807974546\n",
      "видения -7.61728182725\n",
      "верху -7.60319110749\n",
      "анкр -7.59881554768\n",
      "азён -7.58984231606\n",
      "анде -7.58887767968\n",
      "азик -7.57857416501\n",
      "блестели -7.5687864771\n",
      "арищ -7.56779518238\n",
      "витя -7.55775558988\n",
      "ачли -7.54964362504\n",
      "бросил -7.54105967348\n",
      "бомб -7.52777920551\n",
      "больший -7.52144154966\n",
      "атво -7.5188307602\n",
      "виска -7.51508033129\n",
      "бестолково -7.50794211673\n",
      "взмыть -7.50645825343\n",
      "бритвенное -7.50217475761\n",
      "анча -7.4836001499\n",
      "адёж -7.46786435925\n",
      "были -7.45689735864\n",
      "анцу -7.44624471528\n",
      "атну -7.43075516979\n",
      "веде -7.41848350234\n",
      "бнит -7.40752600948\n",
      "ауди -7.4009830761\n",
      "видит -7.29611083527\n",
      "вдохновение -7.29216514524\n",
      "бийц -7.2821534349\n",
      "афон -7.10159639094\n",
      "адме -7.04469375407\n",
      "веще -6.41174816125\n",
      "асот -6.32784758986\n"
     ]
    }
   ],
   "source": [
    "iverted_vocab = {_id:w for (w,_id) in tfidf_vectorizer.vocabulary_.items()}\n",
    "for _id in clf_mnb.coef_.argsort()[0][-150:]:\n",
    "    print(iverted_vocab[_id], clf_mnb.coef_[0][_id])"
   ]
  }
 ],
 "metadata": {
  "kernelspec": {
   "display_name": "Python 3",
   "language": "python",
   "name": "python3"
  },
  "language_info": {
   "codemirror_mode": {
    "name": "ipython",
    "version": 3
   },
   "file_extension": ".py",
   "mimetype": "text/x-python",
   "name": "python",
   "nbconvert_exporter": "python",
   "pygments_lexer": "ipython3",
   "version": "3.6.3"
  }
 },
 "nbformat": 4,
 "nbformat_minor": 2
}
