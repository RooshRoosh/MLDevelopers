{
 "cells": [
  {
   "cell_type": "code",
   "execution_count": 1,
   "metadata": {
    "collapsed": true,
    "deletable": true,
    "editable": true
   },
   "outputs": [],
   "source": [
    "!rm -rf ./trboard"
   ]
  },
  {
   "cell_type": "code",
   "execution_count": 2,
   "metadata": {
    "collapsed": false,
    "deletable": true,
    "editable": true
   },
   "outputs": [
    {
     "name": "stderr",
     "output_type": "stream",
     "text": [
      "/Library/Frameworks/Python.framework/Versions/3.6/lib/python3.6/importlib/_bootstrap.py:205: RuntimeWarning: compiletime version 3.5 of module 'tensorflow.python.framework.fast_tensor_util' does not match runtime version 3.6\n",
      "  return f(*args, **kwds)\n",
      "/Users/talipov/MyProjects/projectX/acosta_env/lib/python3.6/site-packages/h5py/__init__.py:36: FutureWarning: Conversion of the second argument of issubdtype from `float` to `np.floating` is deprecated. In future, it will be treated as `np.float64 == np.dtype(float).type`.\n",
      "  from ._conv import register_converters as _register_converters\n"
     ]
    }
   ],
   "source": [
    "import os\n",
    "import tensorflow as tf\n",
    "import numpy as np\n",
    "import math"
   ]
  },
  {
   "cell_type": "code",
   "execution_count": 3,
   "metadata": {
    "collapsed": true
   },
   "outputs": [],
   "source": [
    "DICT_SIZE = 5*10**4\n",
    "EMBEDDING_SIZE = 64"
   ]
  },
  {
   "cell_type": "code",
   "execution_count": 4,
   "metadata": {
    "collapsed": true
   },
   "outputs": [],
   "source": [
    "WINDOW_SIZE = 5"
   ]
  },
  {
   "cell_type": "code",
   "execution_count": 5,
   "metadata": {
    "collapsed": true,
    "deletable": true,
    "editable": true
   },
   "outputs": [],
   "source": [
    "with tf.name_scope('word_embedding'):\n",
    "    embedding = tf.Variable(\n",
    "        np.random.uniform(low=-0.05, high=0.05, size=(DICT_SIZE, EMBEDDING_SIZE)).astype(np.float32),\n",
    "        name='embedding'\n",
    "    )"
   ]
  },
  {
   "cell_type": "code",
   "execution_count": 6,
   "metadata": {
    "collapsed": false,
    "deletable": true,
    "editable": true
   },
   "outputs": [
    {
     "data": {
      "text/plain": [
       "'word_embedding/embedding:0'"
      ]
     },
     "execution_count": 6,
     "metadata": {},
     "output_type": "execute_result"
    }
   ],
   "source": [
    "embedding.name"
   ]
  },
  {
   "cell_type": "code",
   "execution_count": 7,
   "metadata": {
    "collapsed": true,
    "deletable": true,
    "editable": true
   },
   "outputs": [],
   "source": [
    "with tf.name_scope('input'):\n",
    "    x = tf.placeholder(shape=[None, WINDOW_SIZE-1], dtype=tf.int32)    \n",
    "    x_embedded = tf.nn.embedding_lookup(embedding, x)\n",
    "    \n",
    "with tf.name_scope('y'):\n",
    "    y = tf.placeholder(shape=[None, 1], dtype=tf.float32)"
   ]
  },
  {
   "cell_type": "code",
   "execution_count": 8,
   "metadata": {
    "collapsed": false
   },
   "outputs": [
    {
     "data": {
      "text/plain": [
       "<tf.Tensor 'input/Placeholder:0' shape=(?, 4) dtype=int32>"
      ]
     },
     "execution_count": 8,
     "metadata": {},
     "output_type": "execute_result"
    }
   ],
   "source": [
    "x"
   ]
  },
  {
   "cell_type": "code",
   "execution_count": 9,
   "metadata": {
    "collapsed": false
   },
   "outputs": [
    {
     "data": {
      "text/plain": [
       "<tf.Tensor 'input/embedding_lookup:0' shape=(?, 4, 64) dtype=float32>"
      ]
     },
     "execution_count": 9,
     "metadata": {},
     "output_type": "execute_result"
    }
   ],
   "source": [
    "x_embedded"
   ]
  },
  {
   "cell_type": "code",
   "execution_count": 10,
   "metadata": {
    "collapsed": true
   },
   "outputs": [],
   "source": [
    "_x_embedded = tf.reduce_mean(x_embedded, axis=1)\n",
    "\n",
    "__x_embedded = tf.reshape(x_embedded, shape=(-1, (WINDOW_SIZE-1)*EMBEDDING_SIZE))"
   ]
  },
  {
   "cell_type": "code",
   "execution_count": 11,
   "metadata": {
    "collapsed": false
   },
   "outputs": [
    {
     "name": "stdout",
     "output_type": "stream",
     "text": [
      "Tensor(\"Mean:0\", shape=(?, 64), dtype=float32)\n",
      "Tensor(\"Reshape:0\", shape=(?, 256), dtype=float32)\n"
     ]
    }
   ],
   "source": [
    "print(_x_embedded)\n",
    "print(__x_embedded)"
   ]
  },
  {
   "cell_type": "code",
   "execution_count": 12,
   "metadata": {
    "collapsed": false,
    "deletable": true,
    "editable": true
   },
   "outputs": [],
   "source": [
    "with tf.name_scope('hidden_layer'):\n",
    "    out_layer = tf.layers.Dense(\n",
    "        activation=tf.nn.elu, \n",
    "        units=DICT_SIZE,\n",
    "    )"
   ]
  },
  {
   "cell_type": "code",
   "execution_count": null,
   "metadata": {
    "collapsed": false
   },
   "outputs": [],
   "source": []
  },
  {
   "cell_type": "code",
   "execution_count": 13,
   "metadata": {
    "collapsed": false
   },
   "outputs": [],
   "source": [
    "nce_weights = tf.Variable(\n",
    "  tf.truncated_normal(\n",
    "      [DICT_SIZE, EMBEDDING_SIZE],\n",
    "      stddev=1.0 / math.sqrt(EMBEDDING_SIZE)\n",
    "  )\n",
    ")\n",
    "nce_biases = tf.Variable( tf.zeros(shape=[DICT_SIZE], dtype=tf.float32))"
   ]
  },
  {
   "cell_type": "code",
   "execution_count": 14,
   "metadata": {
    "collapsed": true
   },
   "outputs": [],
   "source": [
    "with tf.name_scope('loss'):\n",
    "    loss = tf.reduce_mean(\n",
    "      tf.nn.nce_loss(\n",
    "          weights=nce_weights,\n",
    "          biases=nce_biases,\n",
    "          labels=y,\n",
    "          inputs=_x_embedded,\n",
    "          num_sampled=500,\n",
    "          num_classes=DICT_SIZE\n",
    "      )\n",
    "    )"
   ]
  },
  {
   "cell_type": "code",
   "execution_count": 16,
   "metadata": {
    "collapsed": true,
    "deletable": true,
    "editable": true
   },
   "outputs": [],
   "source": [
    "with tf.name_scope('train'):\n",
    "    optimizer = tf.train.GradientDescentOptimizer(learning_rate=1)\n",
    "    train_op = optimizer.minimize(loss)"
   ]
  },
  {
   "cell_type": "code",
   "execution_count": 17,
   "metadata": {
    "collapsed": false,
    "deletable": true,
    "editable": true
   },
   "outputs": [],
   "source": [
    "tf.summary.scalar('loss', loss)\n",
    "\n",
    "merged = tf.summary.merge_all()"
   ]
  },
  {
   "cell_type": "code",
   "execution_count": 18,
   "metadata": {
    "collapsed": false
   },
   "outputs": [],
   "source": [
    "from collections import Counter, defaultdict\n",
    "\n",
    "def create_dict():\n",
    "    c = Counter(iter_text())\n",
    "    return {w:i for i,(w,freq) in enumerate(c.most_common(50000-1)) }\n",
    "\n",
    "def iter_text():\n",
    "    with open('./../dz4/norm_big_train_agg.csv','r') as f:\n",
    "        for line in f:\n",
    "            yield from line.strip().split(',')[3].split()\n",
    "            \n",
    "    with open('./../dz4/norm_big_test_agg.csv','r') as f:\n",
    "\n",
    "        for line in f:\n",
    "            yield from line.strip().split(',')[3].split()\n",
    "\n",
    "word_dict = create_dict()"
   ]
  },
  {
   "cell_type": "code",
   "execution_count": 19,
   "metadata": {
    "collapsed": false
   },
   "outputs": [],
   "source": [
    "# word_dict"
   ]
  },
  {
   "cell_type": "code",
   "execution_count": 20,
   "metadata": {
    "collapsed": false
   },
   "outputs": [],
   "source": [
    "def iter_data(batch_size, window_size=WINDOW_SIZE):\n",
    "    buffer = []\n",
    "    batch_x, batch_y = [], []\n",
    "    slice_size = int(window_size/2)\n",
    "    for word in iter_text():\n",
    "        if len(buffer) < window_size:\n",
    "            buffer.append(word_dict.get(word, len(word_dict)))\n",
    "        else:\n",
    "            if not(buffer[slice_size]<=100 or buffer[slice_size]==50000):   \n",
    "                batch_y.append([buffer[slice_size]])    \n",
    "                batch_x.append(buffer[:slice_size]+buffer[slice_size+1:])\n",
    "\n",
    "            buffer.pop(0)\n",
    "            buffer.append(word_dict.get(word, len(word_dict)))\n",
    "        \n",
    "        if len(batch_x)==batch_size:\n",
    "            yield np.array(batch_x), np.array(batch_y)\n",
    "            batch_x, batch_y = [], []\n",
    "            \n"
   ]
  },
  {
   "cell_type": "code",
   "execution_count": 21,
   "metadata": {
    "collapsed": false
   },
   "outputs": [
    {
     "name": "stdout",
     "output_type": "stream",
     "text": [
      "[[  30   69   12   13]\n",
      " [  12   13 6690  193]\n",
      " [  13  507  193  104]\n",
      " [ 507 6690  104   43]]\n",
      "[[5505]\n",
      " [ 507]\n",
      " [6690]\n",
      " [ 193]]\n"
     ]
    }
   ],
   "source": [
    "for _x, _y in iter_data(batch_size=4, window_size=WINDOW_SIZE):\n",
    "    print(_x)\n",
    "    print(_y)\n",
    "    break"
   ]
  },
  {
   "cell_type": "code",
   "execution_count": 22,
   "metadata": {
    "collapsed": false,
    "deletable": true,
    "editable": true
   },
   "outputs": [],
   "source": [
    "from tensorflow.contrib.tensorboard.plugins import projector\n",
    "\n",
    "def save_metadata(file):\n",
    "    with open(file, 'w') as f:\n",
    "        f.write('obj\\tname\\n')\n",
    "        for k,v in word_dict.items():\n",
    "            f.write('{}\\t{}\\n'.format( k, v))\n",
    "        f.write('{}\\t{}\\n'.format( 50000, '<unk>'))\n"
   ]
  },
  {
   "cell_type": "code",
   "execution_count": 23,
   "metadata": {
    "collapsed": true
   },
   "outputs": [],
   "source": [
    "import time"
   ]
  },
  {
   "cell_type": "code",
   "execution_count": null,
   "metadata": {
    "collapsed": false,
    "deletable": true,
    "editable": true,
    "scrolled": false
   },
   "outputs": [],
   "source": [
    "log_dir = './trboard'\n",
    "start_time = time.time()\n",
    "with tf.Session() as sess:\n",
    "    saver = tf.train.Saver()\n",
    "#     saver.restore(sess, os.path.join(log_dir, 'a_model.ckpt'))\n",
    "    \n",
    "    summary_writer = tf.summary.FileWriter(log_dir, sess.graph)\n",
    "    tick = 0\n",
    "    tf.global_variables_initializer().run()\n",
    "    for epoch in range(40):\n",
    "        mean_loss = []\n",
    "        for i,(batch_x, batch_y) in enumerate(iter_data(batch_size=WINDOW_SIZE*1024, window_size=WINDOW_SIZE)):\n",
    "            _, _loss, _summary = sess.run(\n",
    "                [train_op, loss, merged],\n",
    "                feed_dict={\n",
    "                    x: batch_x,\n",
    "                    y: batch_y,\n",
    "                }\n",
    "            )\n",
    "            mean_loss.append(_loss)\n",
    "            \n",
    "            summary_writer.add_summary(_summary, tick)\n",
    "            \n",
    "            tick+=1\n",
    "        print(np.array(mean_loss).mean(), time.time()-start_time)\n",
    "        \n",
    "    config = projector.ProjectorConfig()\n",
    "    embed= config.embeddings.add()\n",
    "    embed.tensor_name = 'word_embedding/embedding:0'\n",
    "    embed.metadata_path = 'metadata.tsv'\n",
    "    projector.visualize_embeddings(summary_writer, config)\n",
    "    \n",
    "    save_metadata(os.path.join(log_dir, embed.metadata_path))\n",
    "    saver.save(sess, os.path.join(log_dir, 'a_model.ckpt'))\n"
   ]
  },
  {
   "cell_type": "code",
   "execution_count": 31,
   "metadata": {
    "collapsed": false,
    "deletable": true,
    "editable": true
   },
   "outputs": [
    {
     "name": "stdout",
     "output_type": "stream",
     "text": [
      "/Library/Frameworks/Python.framework/Versions/3.6/lib/python3.6/importlib/_bootstrap.py:205: RuntimeWarning: compiletime version 3.5 of module 'tensorflow.python.framework.fast_tensor_util' does not match runtime version 3.6\n",
      "  return f(*args, **kwds)\n",
      "/Users/talipov/MyProjects/projectX/acosta_env/lib/python3.6/site-packages/h5py/__init__.py:36: FutureWarning: Conversion of the second argument of issubdtype from `float` to `np.floating` is deprecated. In future, it will be treated as `np.float64 == np.dtype(float).type`.\n",
      "  from ._conv import register_converters as _register_converters\n",
      "TensorBoard 0.4.0rc3 at http://MBP-Ruslan-2.dvm.int.ridero.eu:6006 (Press CTRL+C to quit)\n",
      "^C\n"
     ]
    }
   ],
   "source": [
    "!tensorboard --logdir=./trboard"
   ]
  },
  {
   "cell_type": "code",
   "execution_count": null,
   "metadata": {
    "collapsed": true
   },
   "outputs": [],
   "source": []
  }
 ],
 "metadata": {
  "kernelspec": {
   "display_name": "Python 3",
   "language": "python",
   "name": "python3"
  },
  "language_info": {
   "codemirror_mode": {
    "name": "ipython",
    "version": 3
   },
   "file_extension": ".py",
   "mimetype": "text/x-python",
   "name": "python",
   "nbconvert_exporter": "python",
   "pygments_lexer": "ipython3",
   "version": "3.6.0b3"
  }
 },
 "nbformat": 4,
 "nbformat_minor": 2
}
