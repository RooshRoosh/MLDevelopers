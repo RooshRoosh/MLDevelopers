{
 "cells": [
  {
   "cell_type": "code",
   "execution_count": 1,
   "metadata": {
    "collapsed": true,
    "deletable": true,
    "editable": true
   },
   "outputs": [],
   "source": [
    "!rm -rf ./trboard/"
   ]
  },
  {
   "cell_type": "code",
   "execution_count": 2,
   "metadata": {
    "collapsed": false,
    "deletable": true,
    "editable": true
   },
   "outputs": [
    {
     "name": "stderr",
     "output_type": "stream",
     "text": [
      "/Library/Frameworks/Python.framework/Versions/3.6/lib/python3.6/importlib/_bootstrap.py:205: RuntimeWarning: compiletime version 3.5 of module 'tensorflow.python.framework.fast_tensor_util' does not match runtime version 3.6\n",
      "  return f(*args, **kwds)\n",
      "/Users/talipov/MyProjects/projectX/acosta_env/lib/python3.6/site-packages/h5py/__init__.py:36: FutureWarning: Conversion of the second argument of issubdtype from `float` to `np.floating` is deprecated. In future, it will be treated as `np.float64 == np.dtype(float).type`.\n",
      "  from ._conv import register_converters as _register_converters\n"
     ]
    }
   ],
   "source": [
    "import os\n",
    "import tensorflow as tf\n",
    "import numpy as np"
   ]
  },
  {
   "cell_type": "code",
   "execution_count": 3,
   "metadata": {
    "collapsed": true,
    "deletable": true,
    "editable": true
   },
   "outputs": [],
   "source": [
    "with tf.name_scope('number_embedding'):\n",
    "    embedding = tf.Variable(\n",
    "        np.random.uniform(size=(10,5)).astype(np.float32),\n",
    "        name='embedding'\n",
    "    )"
   ]
  },
  {
   "cell_type": "code",
   "execution_count": 4,
   "metadata": {
    "collapsed": false,
    "deletable": true,
    "editable": true
   },
   "outputs": [
    {
     "data": {
      "text/plain": [
       "'number_embedding/embedding:0'"
      ]
     },
     "execution_count": 4,
     "metadata": {},
     "output_type": "execute_result"
    }
   ],
   "source": [
    "embedding.name"
   ]
  },
  {
   "cell_type": "code",
   "execution_count": 5,
   "metadata": {
    "collapsed": true,
    "deletable": true,
    "editable": true
   },
   "outputs": [],
   "source": [
    "with tf.name_scope('x'):\n",
    "    x1 = tf.placeholder(shape=[None], dtype=tf.int32)\n",
    "    x2 = tf.placeholder(shape=[None], dtype=tf.int32)\n",
    "    \n",
    "    x1_embedded = tf.nn.embedding_lookup(embedding, x1)\n",
    "    x2_embedded = tf.nn.embedding_lookup(embedding, x2)\n",
    "    \n",
    "    x = tf.concat([x1_embedded, x2_embedded], axis=1)\n",
    "    \n",
    "with tf.name_scope('y'):\n",
    "    y = tf.placeholder(shape=[None, 1], dtype=tf.float32)"
   ]
  },
  {
   "cell_type": "code",
   "execution_count": 6,
   "metadata": {
    "collapsed": false,
    "deletable": true,
    "editable": true
   },
   "outputs": [],
   "source": [
    "with tf.name_scope('hidden_layer'):\n",
    "    out_layer = tf.layers.Dense(\n",
    "        activation=None, \n",
    "        units=1,\n",
    "    )"
   ]
  },
  {
   "cell_type": "code",
   "execution_count": 7,
   "metadata": {
    "collapsed": false,
    "deletable": true,
    "editable": true
   },
   "outputs": [],
   "source": [
    "with tf.name_scope('y_pred'):\n",
    "    y_pred = out_layer(x)"
   ]
  },
  {
   "cell_type": "code",
   "execution_count": 8,
   "metadata": {
    "collapsed": false,
    "deletable": true,
    "editable": true
   },
   "outputs": [
    {
     "data": {
      "text/plain": [
       "(<tf.Tensor 'y_pred/dense/BiasAdd:0' shape=(?, 1) dtype=float32>,\n",
       " <tf.Tensor 'y/Placeholder:0' shape=(?, 1) dtype=float32>)"
      ]
     },
     "execution_count": 8,
     "metadata": {},
     "output_type": "execute_result"
    }
   ],
   "source": [
    "y_pred, y"
   ]
  },
  {
   "cell_type": "code",
   "execution_count": 18,
   "metadata": {
    "collapsed": false
   },
   "outputs": [
    {
     "data": {
      "text/plain": [
       "[<tf.Variable 'dense/kernel:0' shape=(10, 1) dtype=float32_ref>,\n",
       " <tf.Variable 'dense/bias:0' shape=(1,) dtype=float32_ref>]"
      ]
     },
     "execution_count": 18,
     "metadata": {},
     "output_type": "execute_result"
    }
   ],
   "source": [
    "out_layer.weights"
   ]
  },
  {
   "cell_type": "code",
   "execution_count": 9,
   "metadata": {
    "collapsed": false,
    "deletable": true,
    "editable": true
   },
   "outputs": [],
   "source": [
    "with tf.name_scope('loss'):\n",
    "    _sub = (y_pred - y)\n",
    "    _pow = tf.pow(_sub, 2)\n",
    "    mean_square_error  = tf.reduce_mean(_pow, axis=1)\n",
    "    mse_loss = tf.reduce_mean(mean_square_error)"
   ]
  },
  {
   "cell_type": "code",
   "execution_count": 10,
   "metadata": {
    "collapsed": true,
    "deletable": true,
    "editable": true
   },
   "outputs": [],
   "source": [
    "with tf.name_scope('train'):\n",
    "    optimizer = tf.train.AdamOptimizer(learning_rate=0.1)\n",
    "    train_op = optimizer.minimize(mse_loss)"
   ]
  },
  {
   "cell_type": "code",
   "execution_count": 11,
   "metadata": {
    "collapsed": false,
    "deletable": true,
    "editable": true
   },
   "outputs": [],
   "source": [
    "tf.summary.scalar('mse', mse_loss)\n",
    "merged = tf.summary.merge_all()"
   ]
  },
  {
   "cell_type": "code",
   "execution_count": 12,
   "metadata": {
    "collapsed": true,
    "deletable": true,
    "editable": true
   },
   "outputs": [],
   "source": [
    "import random\n",
    "\n",
    "def iter_data(batch_size):\n",
    "    batch_x1, batch_x2, batch_y = [], [], []\n",
    "    for i in range(10000):\n",
    "        x1 = random.randint(0,9)\n",
    "        x2 = random.randint(x1, 9)\n",
    "        y = x1+x2\n",
    "    \n",
    "        if len(batch_x1)< batch_size:\n",
    "            batch_x1.append(x1)\n",
    "            batch_x2.append(x2)\n",
    "            batch_y.append([y])\n",
    "        else:\n",
    "            yield batch_x1, batch_x2, batch_y\n",
    "            batch_x1, batch_x2, batch_y = [], [], []"
   ]
  },
  {
   "cell_type": "code",
   "execution_count": 13,
   "metadata": {
    "collapsed": false,
    "deletable": true,
    "editable": true
   },
   "outputs": [
    {
     "name": "stdout",
     "output_type": "stream",
     "text": [
      "([4, 4], [7, 9], [[11], [13]])\n"
     ]
    }
   ],
   "source": [
    "for item in iter_data(2):\n",
    "    print(item)\n",
    "    break"
   ]
  },
  {
   "cell_type": "code",
   "execution_count": 14,
   "metadata": {
    "collapsed": false,
    "deletable": true,
    "editable": true
   },
   "outputs": [],
   "source": [
    "from tensorflow.contrib.tensorboard.plugins import projector\n",
    "\n",
    "def save_metadata(file):\n",
    "    with open(file, 'w') as f:\n",
    "        f.write('obj\\tname\\n')\n",
    "        for i in range(10):\n",
    "            f.write('{}\\t{}\\n'.format(i, i))\n"
   ]
  },
  {
   "cell_type": "code",
   "execution_count": null,
   "metadata": {
    "collapsed": false,
    "deletable": true,
    "editable": true,
    "scrolled": true
   },
   "outputs": [],
   "source": [
    "log_dir = './trboard'\n",
    "with tf.Session() as sess:\n",
    "    saver = tf.train.Saver()\n",
    "    summary_writer = tf.summary.FileWriter(log_dir, sess.graph)\n",
    "    \n",
    "    tf.global_variables_initializer().run()\n",
    "    for i,(batch_x1, batch_x2, batch_y) in enumerate(iter_data(batch_size=10)):\n",
    "        _, mse, _summary = sess.run(\n",
    "            [train_op, mse_loss, merged],\n",
    "            feed_dict={\n",
    "                x1: batch_x1,\n",
    "                x2: batch_x2,\n",
    "                y: batch_y,\n",
    "            }\n",
    "        )\n",
    "        summary_writer.add_summary(_summary, i)\n",
    "        \n",
    "    config = projector.ProjectorConfig()\n",
    "    embed= config.embeddings.add()\n",
    "    embed.tensor_name = 'number_embedding/embedding:0'\n",
    "    embed.metadata_path = 'metadata.tsv'\n",
    "    projector.visualize_embeddings(summary_writer, config)\n",
    "    \n",
    "    save_metadata(os.path.join(log_dir, embed.metadata_path))\n",
    "    saver.save(sess, os.path.join(log_dir, 'a_model.ckpt'))\n"
   ]
  },
  {
   "cell_type": "code",
   "execution_count": null,
   "metadata": {
    "collapsed": false,
    "deletable": true,
    "editable": true
   },
   "outputs": [
    {
     "name": "stdout",
     "output_type": "stream",
     "text": [
      "/Library/Frameworks/Python.framework/Versions/3.6/lib/python3.6/importlib/_bootstrap.py:205: RuntimeWarning: compiletime version 3.5 of module 'tensorflow.python.framework.fast_tensor_util' does not match runtime version 3.6\n",
      "  return f(*args, **kwds)\n",
      "/Users/talipov/MyProjects/projectX/acosta_env/lib/python3.6/site-packages/h5py/__init__.py:36: FutureWarning: Conversion of the second argument of issubdtype from `float` to `np.floating` is deprecated. In future, it will be treated as `np.float64 == np.dtype(float).type`.\n",
      "  from ._conv import register_converters as _register_converters\n",
      "TensorBoard 0.4.0rc3 at http://MBP-Ruslan-2.dvm.int.ridero.eu:6006 (Press CTRL+C to quit)\n",
      "\u001b[33mW0228 16:30:19.831342 Reloader plugin_event_multiplexer.py:203] Deleting accumulator '.'\n",
      "\u001b[0m"
     ]
    }
   ],
   "source": [
    "!tensorboard --logdir=./trboard"
   ]
  },
  {
   "cell_type": "code",
   "execution_count": null,
   "metadata": {
    "collapsed": true,
    "deletable": true,
    "editable": true
   },
   "outputs": [],
   "source": []
  }
 ],
 "metadata": {
  "kernelspec": {
   "display_name": "Python 3",
   "language": "python",
   "name": "python3"
  },
  "language_info": {
   "codemirror_mode": {
    "name": "ipython",
    "version": 3
   },
   "file_extension": ".py",
   "mimetype": "text/x-python",
   "name": "python",
   "nbconvert_exporter": "python",
   "pygments_lexer": "ipython3",
   "version": "3.6.0b3"
  }
 },
 "nbformat": 4,
 "nbformat_minor": 2
}
