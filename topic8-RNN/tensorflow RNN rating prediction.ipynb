{
 "cells": [
  {
   "cell_type": "code",
   "execution_count": 1,
   "metadata": {
    "collapsed": false,
    "deletable": true,
    "editable": true
   },
   "outputs": [
    {
     "name": "stderr",
     "output_type": "stream",
     "text": [
      "/Library/Frameworks/Python.framework/Versions/3.6/lib/python3.6/importlib/_bootstrap.py:205: RuntimeWarning: compiletime version 3.5 of module 'tensorflow.python.framework.fast_tensor_util' does not match runtime version 3.6\n",
      "  return f(*args, **kwds)\n",
      "/Users/talipov/MyProjects/projectX/acosta_env/lib/python3.6/site-packages/h5py/__init__.py:36: FutureWarning: Conversion of the second argument of issubdtype from `float` to `np.floating` is deprecated. In future, it will be treated as `np.float64 == np.dtype(float).type`.\n",
      "  from ._conv import register_converters as _register_converters\n"
     ]
    }
   ],
   "source": [
    "import tensorflow as tf\n",
    "import numpy as np\n",
    "import matplotlib.pyplot as plt\n",
    "%matplotlib inline"
   ]
  },
  {
   "cell_type": "code",
   "execution_count": 2,
   "metadata": {
    "collapsed": true,
    "deletable": true,
    "editable": true
   },
   "outputs": [],
   "source": [
    "import pickle\n",
    "from sklearn.externals import joblib"
   ]
  },
  {
   "cell_type": "code",
   "execution_count": 3,
   "metadata": {
    "collapsed": true,
    "deletable": true,
    "editable": true
   },
   "outputs": [],
   "source": [
    "batch_size = 256"
   ]
  },
  {
   "cell_type": "code",
   "execution_count": 4,
   "metadata": {
    "collapsed": false,
    "deletable": true,
    "editable": true
   },
   "outputs": [],
   "source": [
    "x = tf.placeholder(\n",
    "    shape=[batch_size, 50, 64],\n",
    "    dtype=tf.float32\n",
    ")\n",
    "y = tf.placeholder(\n",
    "    shape=[batch_size, 1],\n",
    "    dtype=tf.float32,\n",
    ")"
   ]
  },
  {
   "cell_type": "code",
   "execution_count": 5,
   "metadata": {
    "collapsed": false,
    "deletable": true,
    "editable": true
   },
   "outputs": [],
   "source": [
    "hidden_size = 64\n",
    "fw_lstm_cell_1 = tf.contrib.rnn.LSTMCell(\n",
    "    num_units=hidden_size, \n",
    ")\n",
    "fw_lstm_cell_2 = tf.contrib.rnn.LSTMCell(\n",
    "    num_units=hidden_size, \n",
    ")\n",
    "bw_lstm_cell_1 = tf.contrib.rnn.LSTMCell(\n",
    "    num_units=hidden_size, \n",
    ")\n",
    "bw_lstm_cell_2 = tf.contrib.rnn.LSTMCell(\n",
    "    num_units=hidden_size, \n",
    ")\n",
    "outputs, final_fw, final_bw = tf.contrib.rnn.stack_bidirectional_dynamic_rnn(\n",
    "    [fw_lstm_cell_1],#,fw_lstm_cell_2],\n",
    "    [bw_lstm_cell_1],#,bw_lstm_cell_2],\n",
    "    x,\n",
    "    dtype=tf.float32\n",
    ")"
   ]
  },
  {
   "cell_type": "code",
   "execution_count": 6,
   "metadata": {
    "collapsed": false,
    "deletable": true,
    "editable": true
   },
   "outputs": [],
   "source": [
    "final_fw =  tf.concat( [final_fw[0][0],final_fw[0][1]],axis=1)\n",
    "final_bw =  tf.concat( [final_bw[0][0],final_bw[0][1]],axis=1)\n",
    "final = tf.concat( [final_fw, final_bw], axis=1)"
   ]
  },
  {
   "cell_type": "code",
   "execution_count": 7,
   "metadata": {
    "collapsed": true
   },
   "outputs": [],
   "source": [
    "hidden = tf.layers.Dense(units=256, activation=tf.nn.elu)(final)"
   ]
  },
  {
   "cell_type": "code",
   "execution_count": 8,
   "metadata": {
    "collapsed": false,
    "deletable": true,
    "editable": true
   },
   "outputs": [],
   "source": [
    "output = tf.layers.Dense(units=1, activation=None)(hidden)\n",
    "# output = tf.layers.Dense(units=1, activation=None)(last_states)\n",
    "# output = tf.layers.Dense(units=4, activation=None)(final)"
   ]
  },
  {
   "cell_type": "code",
   "execution_count": null,
   "metadata": {
    "collapsed": true
   },
   "outputs": [],
   "source": []
  },
  {
   "cell_type": "code",
   "execution_count": 9,
   "metadata": {
    "collapsed": false
   },
   "outputs": [],
   "source": [
    "mae = tf.reduce_mean(tf.abs(output-y))\n",
    "mse = tf.reduce_mean(tf.pow(output-y, 2))\n",
    "\n",
    "rmae = tf.sqrt(tf.reduce_mean(tf.abs(output-y)))\n",
    "rmse = tf.sqrt(tf.reduce_mean(tf.pow(output-y, 2)))\n"
   ]
  },
  {
   "cell_type": "code",
   "execution_count": 10,
   "metadata": {
    "collapsed": true,
    "deletable": true,
    "editable": true
   },
   "outputs": [],
   "source": [
    "optimizer = tf.train.AdamOptimizer(\n",
    "    learning_rate=0.0001\n",
    ")\n",
    "train_op = optimizer.minimize(mse)"
   ]
  },
  {
   "cell_type": "code",
   "execution_count": null,
   "metadata": {
    "collapsed": false,
    "deletable": true,
    "editable": true
   },
   "outputs": [],
   "source": []
  },
  {
   "cell_type": "code",
   "execution_count": 11,
   "metadata": {
    "collapsed": true,
    "deletable": true,
    "editable": true
   },
   "outputs": [],
   "source": [
    "# Слова в индексы эмбеддинга"
   ]
  },
  {
   "cell_type": "code",
   "execution_count": 12,
   "metadata": {
    "collapsed": false,
    "deletable": true,
    "editable": true
   },
   "outputs": [],
   "source": [
    "import gensim\n",
    "word2vec = gensim.models.Word2Vec.load('./../topic7-word2vec/word2vec32')"
   ]
  },
  {
   "cell_type": "code",
   "execution_count": 13,
   "metadata": {
    "collapsed": false,
    "deletable": true,
    "editable": true
   },
   "outputs": [],
   "source": [
    "# path = './../topic7-word2vec/normalized_train.csv' \n",
    "\n",
    "# with open('actual_train.csv','w') as f:\n",
    "#     with open(path, 'r') as f_norm_text:\n",
    "#         with open('./../dz4/big_train.csv', 'r') as f_rating:\n",
    "#             print(f_rating.readline())\n",
    "#             for norm_text_line, rating_line in zip(f_norm_text, f_rating):\n",
    "#                 data = rating_line.strip().split(',')\n",
    "#                 _id,context_id,label,text,likes,rating = data\n",
    "\n",
    "#                 if rating == 'n/a':\n",
    "#                     continue\n",
    "                    \n",
    "#                 f.write('%s,%s\\n' % (norm_text_line.split(',')[0].strip(), rating))\n",
    "                \n",
    "# # path = './../topic7-word2vec/normalized_test.csv'"
   ]
  },
  {
   "cell_type": "code",
   "execution_count": 14,
   "metadata": {
    "collapsed": false,
    "deletable": true,
    "editable": true
   },
   "outputs": [],
   "source": [
    "word_dictionary = {w:i for (i,w) in enumerate(word2vec.wv.index2word)}"
   ]
  },
  {
   "cell_type": "code",
   "execution_count": 15,
   "metadata": {
    "collapsed": false
   },
   "outputs": [
    {
     "name": "stdout",
     "output_type": "stream",
     "text": [
      "   84070 5214415 73895248 actual_train.csv\r\n"
     ]
    }
   ],
   "source": [
    "!wc actual_train.csv"
   ]
  },
  {
   "cell_type": "code",
   "execution_count": 16,
   "metadata": {
    "collapsed": false,
    "deletable": true,
    "editable": true
   },
   "outputs": [],
   "source": [
    "def iter_data(batch_size=batch_size, is_train=True, is_val=True):\n",
    "    max_length = 50\n",
    "    batch_x, batch_y = [], []\n",
    "    if is_train:\n",
    "        path = 'actual_train.csv' \n",
    "    else:\n",
    "        path = 'actual_test.csv'\n",
    "        \n",
    "    with open(path, 'r') as f:\n",
    "        for _idx, line in enumerate(f):\n",
    "            \n",
    "            if is_train and is_val and _idx > 4200:\n",
    "                break\n",
    "                \n",
    "            if is_train and (not is_val) and _idx < 4200: #> 84070-4200:\n",
    "                continue\n",
    "                \n",
    "            if is_train:\n",
    "                text, label = line.strip().split(',')\n",
    "            else:\n",
    "                text, label = line.strip().split(',')\n",
    "            indexes = [\n",
    "                word_dictionary.get(word) \n",
    "                for word in text.split() \n",
    "                if word in word_dictionary\n",
    "            ]\n",
    "            if not indexes:\n",
    "                word_vectors = np.zeros( (max_length, 64), dtype=np.float32)\n",
    "            else:\n",
    "                word_vectors = word2vec.wv.syn0[indexes]\n",
    "\n",
    "            if word_vectors.shape[0]< max_length:\n",
    "                extra = np.array([\n",
    "                    [0 for i in range(64)]\n",
    "                    for j in range(max_length-word_vectors.shape[0])\n",
    "                ])\n",
    "                word_vectors = np.vstack(\n",
    "                    [\n",
    "                        word_vectors, extra\n",
    "                    ]\n",
    "                )\n",
    "\n",
    "            if word_vectors.shape[0]> max_length:\n",
    "                word_vectors = word_vectors[:max_length]\n",
    "                \n",
    "            batch_x.append(\n",
    "                word_vectors\n",
    "            )\n",
    "            \n",
    "            if is_train:\n",
    "#                 _label_vec = np.zeros(4)\n",
    "#                 _label_vec[int(label)] = 1\n",
    "                batch_y.append([int(label)])\n",
    "            \n",
    "            if len(batch_x) >=batch_size:\n",
    "                yield np.array(batch_x), np.array(batch_y)\n",
    "                batch_y, batch_x = [],[]\n",
    "                \n",
    "    if is_train==False:\n",
    "\n",
    "        while len(batch_x)<batch_size:\n",
    "            batch_x.append(\n",
    "                np.zeros( (max_length, 64), dtype=np.float32)\n",
    "            )\n",
    "            \n",
    "        yield np.array(batch_x), np.array(batch_y)"
   ]
  },
  {
   "cell_type": "code",
   "execution_count": 17,
   "metadata": {
    "collapsed": true
   },
   "outputs": [],
   "source": [
    "def eval_target(sess, filename):\n",
    "    Y_= []\n",
    "    for _tick, (_x,_y) in enumerate(iter_data(is_train=False)):\n",
    "\n",
    "        _output = sess.run(\n",
    "            [output],\n",
    "            feed_dict={\n",
    "                x: _x,\n",
    "            }\n",
    "        )\n",
    "        for probs in _output[0]:\n",
    "            Y_.append(probs)\n",
    "    Y_= np.array(Y_)\n",
    "    with open('%s.csv' % filename,'w') as sol:\n",
    "        with open('../dz4/rating_test_without_rating.csv', 'r') as f:\n",
    "            sol.write('_id,rating\\n')\n",
    "            f.readline()\n",
    "            for (line, label) in zip(f, Y_):\n",
    "                data = line.split(',')\n",
    "                sol.write('%s,%s\\n' % (data[0], label[0]))"
   ]
  },
  {
   "cell_type": "code",
   "execution_count": 34,
   "metadata": {
    "collapsed": false,
    "deletable": true,
    "editable": true,
    "scrolled": false
   },
   "outputs": [
    {
     "name": "stdout",
     "output_type": "stream",
     "text": [
      "INFO:tensorflow:Restoring parameters from ./rating_rnn.model\n",
      "20 100\n",
      "0.55(0.62), 0.52(0.74), 0.74(0.78), 0.72(0.86)\n",
      "20 200\n",
      "0.48(0.59), 0.48(0.73), 0.69(0.77), 0.70(0.85)\n",
      "20 300\n",
      "0.47(0.59), 0.44(0.73), 0.68(0.77), 0.67(0.86)\n",
      "21 100\n",
      "0.54(0.62), 0.52(0.74), 0.74(0.78), 0.72(0.86)\n",
      "21 200\n",
      "0.47(0.59), 0.48(0.73), 0.69(0.77), 0.69(0.85)\n",
      "21 300\n",
      "0.46(0.59), 0.44(0.73), 0.68(0.77), 0.66(0.86)\n",
      "22 100\n",
      "0.54(0.62), 0.51(0.74), 0.73(0.78), 0.71(0.86)\n",
      "22 200\n",
      "0.47(0.59), 0.47(0.73), 0.68(0.76), 0.69(0.85)\n",
      "22 300\n",
      "0.46(0.59), 0.43(0.74), 0.68(0.77), 0.66(0.86)\n",
      "23 100\n",
      "0.54(0.62), 0.50(0.74), 0.73(0.79), 0.71(0.86)\n",
      "23 200\n",
      "0.46(0.59), 0.46(0.73), 0.68(0.76), 0.68(0.85)\n",
      "23 300\n",
      "0.45(0.59), 0.42(0.74), 0.67(0.77), 0.65(0.86)\n",
      "24 100\n",
      "0.53(0.62), 0.49(0.74), 0.73(0.79), 0.70(0.86)\n",
      "24 200\n",
      "0.46(0.59), 0.46(0.73), 0.68(0.76), 0.68(0.85)\n",
      "24 300\n",
      "0.45(0.59), 0.42(0.74), 0.67(0.77), 0.64(0.86)\n",
      "25 100\n",
      "0.53(0.62), 0.49(0.74), 0.73(0.79), 0.70(0.86)\n",
      "25 200\n",
      "0.45(0.58), 0.45(0.73), 0.67(0.76), 0.67(0.86)\n",
      "25 300\n",
      "0.44(0.59), 0.41(0.74), 0.66(0.77), 0.64(0.86)\n",
      "26 100\n",
      "0.52(0.62), 0.48(0.75), 0.72(0.79), 0.69(0.86)\n",
      "26 200\n",
      "0.45(0.58), 0.44(0.74), 0.67(0.76), 0.67(0.86)\n",
      "26 300\n",
      "0.44(0.59), 0.40(0.74), 0.66(0.77), 0.64(0.86)\n",
      "27 100\n",
      "0.52(0.62), 0.47(0.75), 0.72(0.79), 0.69(0.86)\n",
      "27 200\n",
      "0.44(0.58), 0.44(0.74), 0.67(0.76), 0.66(0.86)\n",
      "27 300\n",
      "0.43(0.59), 0.40(0.75), 0.66(0.77), 0.63(0.86)\n",
      "28 100\n",
      "0.52(0.62), 0.47(0.75), 0.72(0.79), 0.68(0.86)\n",
      "28 200\n",
      "0.44(0.58), 0.43(0.74), 0.66(0.76), 0.66(0.86)\n",
      "28 300\n",
      "0.43(0.59), 0.39(0.75), 0.65(0.77), 0.63(0.86)\n",
      "29 100\n",
      "0.51(0.62), 0.46(0.75), 0.72(0.79), 0.68(0.87)\n",
      "29 200\n",
      "0.44(0.58), 0.43(0.74), 0.66(0.76), 0.65(0.86)\n",
      "29 300\n",
      "0.42(0.59), 0.39(0.75), 0.65(0.77), 0.62(0.87)\n"
     ]
    }
   ],
   "source": [
    "min_mse = 2\n",
    "with tf.Session() as sess:\n",
    "    saver = tf.train.Saver()\n",
    "    sess.run(tf.global_variables_initializer())\n",
    "    saver.restore(sess, save_path='./rating_rnn.model')\n",
    "    try:\n",
    "        for epoch in range(20,30):\n",
    "            for _tick, (_x,_y) in enumerate(iter_data(is_train=True,is_val=False)):\n",
    "\n",
    "                _, _mae, _mse, _rmae, _rmse = sess.run(\n",
    "                    [train_op, mae, mse, rmae, rmse ],\n",
    "                    feed_dict={\n",
    "                        x: _x,\n",
    "                        y: _y\n",
    "                    }\n",
    "                )\n",
    "\n",
    "                if _tick and not _tick % 100:\n",
    "                    \n",
    "                    loss_ = []\n",
    "                    for (_x,_y) in iter_data(is_train=True,is_val=True):\n",
    "                        loss_list = sess.run(\n",
    "                            [mae, mse, rmae, rmse],\n",
    "                            feed_dict={\n",
    "                                x: _x,\n",
    "                                y: _y,\n",
    "                            }\n",
    "                        )\n",
    "                        loss_.append(loss_list)\n",
    "                    loss_ = np.array(loss_)\n",
    "                    loss_ = loss_.mean(axis=0)\n",
    "                    print(epoch,_tick)\n",
    "                    print(\n",
    "                        '%3.2f(%3.2f), %3.2f(%3.2f), %3.2f(%3.2f), %3.2f(%3.2f)' % (\n",
    "                            _mae,loss_[0],\n",
    "                            _mse,loss_[1],\n",
    "                            _rmae,loss_[2],\n",
    "                            _rmse,loss_[3]\n",
    "                        )\n",
    "                    )\n",
    "                    \n",
    "                    if min_mse>loss_[1]:\n",
    "                        if epoch< 2: continue\n",
    "                        min_mse = loss_[1]\n",
    "                        eval_target(sess, 'rating_2xbi-lstm_%s.csv' % min_mse)\n",
    "                            \n",
    "                    saver.save(sess=sess, save_path='./rating_rnn.model')\n",
    "                    \n",
    "                    \n",
    "                    \n",
    "            saver.save(sess=sess, save_path='./rating_rnn.model')\n",
    "\n",
    "    except KeyboardInterrupt:\n",
    "        saver.save(sess=sess, save_path='./rating_rnn.model')\n",
    "        raise KeyboardInterrupt"
   ]
  },
  {
   "cell_type": "code",
   "execution_count": 31,
   "metadata": {
    "collapsed": false,
    "deletable": true,
    "editable": true
   },
   "outputs": [
    {
     "name": "stdout",
     "output_type": "stream",
     "text": [
      "INFO:tensorflow:Restoring parameters from ./rating_rnn.model\n"
     ]
    }
   ],
   "source": [
    "with tf.Session() as sess:\n",
    "    saver = tf.train.Saver()\n",
    "    saver.restore(sess, save_path='./rating_rnn.model')\n",
    "    \n",
    "    eval_target(sess, 'rating_rnn_')"
   ]
  },
  {
   "cell_type": "code",
   "execution_count": 43,
   "metadata": {
    "collapsed": false,
    "deletable": true,
    "editable": true
   },
   "outputs": [],
   "source": [
    "Y_= np.array(Y_)"
   ]
  },
  {
   "cell_type": "code",
   "execution_count": 44,
   "metadata": {
    "collapsed": false,
    "deletable": true,
    "editable": true
   },
   "outputs": [
    {
     "data": {
      "text/plain": [
       "(83328, 1)"
      ]
     },
     "execution_count": 44,
     "metadata": {},
     "output_type": "execute_result"
    }
   ],
   "source": [
    "Y_.shape"
   ]
  },
  {
   "cell_type": "code",
   "execution_count": 45,
   "metadata": {
    "collapsed": false,
    "deletable": true,
    "editable": true
   },
   "outputs": [],
   "source": [
    "\n",
    "with open('rating_rnn_.csv','w') as sol:\n",
    "    with open('../dz4/rating_test_without_rating.csv', 'r') as f:\n",
    "        sol.write('_id,rating\\n')\n",
    "        f.readline()\n",
    "        for (line, label) in zip(f, Y_):\n",
    "            data = line.split(',')\n",
    "            sol.write('%s,%s\\n' % (data[0], label[0]))\n",
    "#             yield preprocessing(line.strip().split(',')[1].lower()).split()"
   ]
  },
  {
   "cell_type": "code",
   "execution_count": 19,
   "metadata": {
    "collapsed": false,
    "deletable": true,
    "editable": true
   },
   "outputs": [],
   "source": [
    "!open ."
   ]
  },
  {
   "cell_type": "code",
   "execution_count": 60,
   "metadata": {
    "collapsed": false,
    "deletable": true,
    "editable": true
   },
   "outputs": [
    {
     "name": "stdout",
     "output_type": "stream",
     "text": [
      "   83221 7245744 84404527 ../dz4/rating_test_without_rating.csv\r\n"
     ]
    }
   ],
   "source": [
    "!wc ../dz4/rating_test_without_rating.csv"
   ]
  },
  {
   "cell_type": "code",
   "execution_count": 27,
   "metadata": {
    "collapsed": false
   },
   "outputs": [
    {
     "name": "stdout",
     "output_type": "stream",
     "text": [
      "_id,rating\n",
      "\n",
      "_id,rating\n",
      "\n",
      "_id,rating\n",
      "\n",
      "_id,rating\n",
      "\n",
      "_id,rating\n",
      "\n",
      "_id,rating\n",
      "\n",
      "_id,rating\n",
      "\n",
      "_id,rating\n",
      "\n",
      "_id,rating\n",
      "\n",
      "_id,rating\n",
      "\n",
      "_id,rating\n",
      "\n",
      "_id,rating\n",
      "\n",
      "_id,rating\n",
      "\n",
      "_id,rating\n",
      "\n",
      "_id,rating\n",
      "\n",
      "_id,rating\n",
      "\n",
      "_id,rating\n",
      "\n",
      "_id,rating\n",
      "\n",
      "_id,rating\n",
      "\n",
      "_id,rating\n",
      "\n",
      "_id,rating\n",
      "\n",
      "_id,rating\n",
      "\n",
      "_id,rating\n",
      "\n",
      "_id,rating\n",
      "\n",
      "_id,rating\n",
      "\n",
      "_id,rating\n",
      "\n",
      "_id,rating\n",
      "\n",
      "_id,rating\n",
      "\n",
      "_id,rating\n",
      "\n",
      "_id,rating\n",
      "\n",
      "_id,rating\n",
      "\n",
      "_id,rating\n",
      "\n",
      "_id,rating\n",
      "\n",
      "_id,rating\n",
      "\n",
      "_id,rating\n",
      "\n",
      "_id,rating\n",
      "\n",
      "_id,rating\n",
      "\n",
      "_id,rating\n",
      "\n",
      "_id,rating\n",
      "\n",
      "_id,rating\n",
      "\n",
      "_id,rating\n",
      "\n",
      "_id,rating\n",
      "\n",
      "_id,rating\n",
      "\n",
      "_id,rating\n",
      "\n",
      "_id,rating\n",
      "\n",
      "_id,rating\n",
      "\n",
      "_id,rating\n",
      "\n",
      "_id,rating\n",
      "\n",
      "_id,rating\n",
      "\n",
      "_id,rating\n",
      "\n",
      "_id,rating\n",
      "\n",
      "_id,rating\n",
      "\n",
      "_id,rating\n",
      "\n",
      "_id,rating\n",
      "\n",
      "_id,rating\n",
      "\n",
      "_id,rating\n",
      "\n",
      "_id,rating\n",
      "\n",
      "_id,rating\n",
      "\n",
      "_id,rating\n",
      "\n",
      "_id,rating\n",
      "\n",
      "_id,rating\n",
      "\n",
      "_id,rating\n",
      "\n",
      "_id,rating\n",
      "\n",
      "_id,rating\n",
      "\n",
      "_id,rating\n",
      "\n",
      "_id,rating\n",
      "\n",
      "_id,rating\n",
      "\n",
      "_id,rating\n",
      "\n",
      "_id,rating\n",
      "\n",
      "_id,rating\n",
      "\n",
      "_id,rating\n",
      "\n",
      "_id,rating\n",
      "\n",
      "_id,rating\n",
      "\n",
      "_id,rating\n",
      "\n",
      "_id,rating\n",
      "\n",
      "_id,rating\n",
      "\n",
      "_id,rating\n",
      "\n",
      "_id,rating\n",
      "\n",
      "_id,rating\n",
      "\n"
     ]
    }
   ],
   "source": [
    "import os\n",
    "D = []\n",
    "for fname in os.listdir('.'):\n",
    "    Y = []\n",
    "    if fname[:6]=='rating' and fname[-3:]=='csv':\n",
    "        with open(fname, 'r') as f:\n",
    "            print(f.readline())\n",
    "            for line in f:\n",
    "                _id, val = line.split(',')\n",
    "                Y.append(float(val))\n",
    "        D.append(Y)\n",
    "    else:\n",
    "        continue\n",
    "\n",
    "D = np.array(D)"
   ]
  },
  {
   "cell_type": "code",
   "execution_count": 31,
   "metadata": {
    "collapsed": false
   },
   "outputs": [],
   "source": [
    "# for "
   ]
  },
  {
   "cell_type": "code",
   "execution_count": 33,
   "metadata": {
    "collapsed": false
   },
   "outputs": [],
   "source": [
    "with open('concat_rating.csv','w') as sol:\n",
    "    with open('../dz4/rating_test_without_rating.csv', 'r') as f:\n",
    "        sol.write('_id,rating\\n')\n",
    "        f.readline()\n",
    "        for (line, label) in zip(f, D.mean(axis=0)):\n",
    "            data = line.split(',')\n",
    "            sol.write('%s,%s\\n' % (data[0], label))"
   ]
  },
  {
   "cell_type": "code",
   "execution_count": null,
   "metadata": {
    "collapsed": true
   },
   "outputs": [],
   "source": []
  }
 ],
 "metadata": {
  "kernelspec": {
   "display_name": "Python 3",
   "language": "python",
   "name": "python3"
  },
  "language_info": {
   "codemirror_mode": {
    "name": "ipython",
    "version": 3
   },
   "file_extension": ".py",
   "mimetype": "text/x-python",
   "name": "python",
   "nbconvert_exporter": "python",
   "pygments_lexer": "ipython3",
   "version": "3.6.0b3"
  }
 },
 "nbformat": 4,
 "nbformat_minor": 2
}
